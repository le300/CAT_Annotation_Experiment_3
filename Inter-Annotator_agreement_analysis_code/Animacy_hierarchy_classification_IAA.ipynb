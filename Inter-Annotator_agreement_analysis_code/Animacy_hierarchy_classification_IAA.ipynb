{
 "cells": [
  {
   "cell_type": "markdown",
   "id": "7a8d8939",
   "metadata": {},
   "source": [
    "## Animacy hierarchy classification inter-annotator agreement"
   ]
  },
  {
   "cell_type": "markdown",
   "id": "83117c14",
   "metadata": {},
   "source": [
    "2023\n",
    "\n",
    "This notebook contains the code for \"Experiment 2: introducing an animacy hierarchy\" in the article \"Identifying visual depictions of animate entities in narrative comics: an annotation study "
   ]
  },
  {
   "cell_type": "markdown",
   "id": "6bf866d2",
   "metadata": {},
   "source": [
    "##### Imports and libraries"
   ]
  },
  {
   "cell_type": "code",
   "execution_count": 1,
   "id": "fe71582e",
   "metadata": {},
   "outputs": [],
   "source": [
    "\n",
    "import json # json library\n",
    "import os # for list directories \n",
    "\n",
    "import numpy as np \n",
    "import math\n",
    "import matplotlib.pyplot as plt\n",
    "\n",
    "import krippendorff\n"
   ]
  },
  {
   "cell_type": "markdown",
   "id": "524224c2",
   "metadata": {},
   "source": [
    "##### Read-in all annotations, per story, in JSON format"
   ]
  },
  {
   "cell_type": "code",
   "execution_count": 11,
   "id": "f1a0edf4",
   "metadata": {},
   "outputs": [],
   "source": [
    "# Story 1\n",
    "\n",
    "f1_1 = open(\"Annotations_Prolific/Animacy_Type_and_Reference_Story1/Processed/participant1.json\")\n",
    "f2_1 = open(\"Annotations_Prolific/Animacy_Type_and_Reference_Story1/Processed/participant2.json\")\n",
    "f3_1 = open(\"Annotations_Prolific/Animacy_Type_and_Reference_Story1/Processed/participant3.json\")\n",
    "f4_1 = open(\"Annotations_Prolific/Animacy_Type_and_Reference_Story1/Processed/participant4.json\")\n",
    "f5_1 = open(\"Annotations_Prolific/Animacy_Type_and_Reference_Story1/Processed/participant5.json\")\n",
    "\n",
    "participant1_story1 = json.load(f1_1)\n",
    "participant2_story1 = json.load(f2_1)\n",
    "participant3_story1 = json.load(f3_1)\n",
    "participant4_story1 = json.load(f4_1)\n",
    "participant5_story1 = json.load(f5_1)\n"
   ]
  },
  {
   "cell_type": "code",
   "execution_count": 12,
   "id": "16a41c1b",
   "metadata": {},
   "outputs": [],
   "source": [
    "story1 = {\"participant1\" : participant1_story1,\n",
    "          \"participant2\" : participant2_story1,\n",
    "          \"participant3\" : participant3_story1,\n",
    "          \"participant4\" : participant4_story1,\n",
    "          \"participant5\" : participant5_story1}\n",
    "\n"
   ]
  },
  {
   "cell_type": "code",
   "execution_count": 13,
   "id": "6d21d1d5",
   "metadata": {},
   "outputs": [],
   "source": [
    "# Story 2\n",
    "\n",
    "f1_2 = open(\"Annotations_Prolific/Animacy_Type_and_Reference_Story2/Processed/participant1.json\")\n",
    "f2_2 = open(\"Annotations_Prolific/Animacy_Type_and_Reference_Story2/Processed/participant2.json\")\n",
    "f3_2 = open(\"Annotations_Prolific/Animacy_Type_and_Reference_Story2/Processed/participant3.json\")\n",
    "f4_2 = open(\"Annotations_Prolific/Animacy_Type_and_Reference_Story2/Processed/participant4.json\")\n",
    "f5_2 = open(\"Annotations_Prolific/Animacy_Type_and_Reference_Story2/Processed/participant5.json\")\n",
    "\n",
    "participant1_story2 = json.load(f1_2)\n",
    "participant2_story2 = json.load(f2_2)\n",
    "participant3_story2 = json.load(f3_2)\n",
    "participant4_story2 = json.load(f4_2)\n",
    "participant5_story2 = json.load(f5_2)\n"
   ]
  },
  {
   "cell_type": "code",
   "execution_count": 14,
   "id": "db1ab059",
   "metadata": {},
   "outputs": [],
   "source": [
    "story2 = {\"participant1\" : participant1_story2,\n",
    "          \"participant2\" : participant2_story2,\n",
    "          \"participant3\" : participant3_story2,\n",
    "          \"participant4\" : participant4_story2,\n",
    "          \"participant5\" : participant5_story2}\n"
   ]
  },
  {
   "cell_type": "code",
   "execution_count": 15,
   "id": "e6fc87c8",
   "metadata": {},
   "outputs": [],
   "source": [
    "# Story 3\n",
    "\n",
    "f1_3 = open(\"Annotations_Prolific/Animacy_Type_and_Reference_Story3/Processed/participant1.json\")\n",
    "f2_3 = open(\"Annotations_Prolific/Animacy_Type_and_Reference_Story3/Processed/participant2.json\")\n",
    "f3_3 = open(\"Annotations_Prolific/Animacy_Type_and_Reference_Story3/Processed/participant3.json\")\n",
    "f4_3 = open(\"Annotations_Prolific/Animacy_Type_and_Reference_Story3/Processed/participant4.json\")\n",
    "f5_3 = open(\"Annotations_Prolific/Animacy_Type_and_Reference_Story3/Processed/participant5.json\")\n",
    "\n",
    "participant1_story3 = json.load(f1_3)\n",
    "participant2_story3 = json.load(f2_3)\n",
    "participant3_story3 = json.load(f3_3)\n",
    "participant4_story3 = json.load(f4_3)\n",
    "participant5_story3 = json.load(f5_3)\n",
    "\n",
    "\n"
   ]
  },
  {
   "cell_type": "code",
   "execution_count": 16,
   "id": "b6143950",
   "metadata": {},
   "outputs": [],
   "source": [
    "story3 = {\"participant1\" : participant1_story3,\n",
    "          \"participant2\" : participant2_story3,\n",
    "          \"participant3\" : participant3_story3,\n",
    "          \"participant4\" : participant4_story3,\n",
    "          \"participant5\" : participant5_story3}\n"
   ]
  },
  {
   "cell_type": "code",
   "execution_count": 17,
   "id": "3635f434",
   "metadata": {},
   "outputs": [],
   "source": [
    "# Story 4\n",
    "\n",
    "f1_4 = open(\"Annotations_Prolific/Animacy_Type_and_Reference_Story4/Processed/participant1.json\")\n",
    "f2_4 = open(\"Annotations_Prolific/Animacy_Type_and_Reference_Story4/Processed/participant2.json\")\n",
    "f3_4 = open(\"Annotations_Prolific/Animacy_Type_and_Reference_Story4/Processed/participant3.json\")\n",
    "f4_4 = open(\"Annotations_Prolific/Animacy_Type_and_Reference_Story4/Processed/participant4.json\")\n",
    "f5_4 = open(\"Annotations_Prolific/Animacy_Type_and_Reference_Story4/Processed/participant5.json\")\n",
    "\n",
    "participant1_story4 = json.load(f1_4)\n",
    "participant2_story4 = json.load(f2_4)\n",
    "participant3_story4 = json.load(f3_4)\n",
    "participant4_story4 = json.load(f4_4)\n",
    "participant5_story4 = json.load(f5_4)\n",
    "\n"
   ]
  },
  {
   "cell_type": "code",
   "execution_count": 18,
   "id": "8d7161e9",
   "metadata": {},
   "outputs": [],
   "source": [
    "story4 = {\"participant1\" : participant1_story4,\n",
    "          \"participant2\" : participant2_story4,\n",
    "          \"participant3\" : participant3_story4,\n",
    "          \"participant4\" : participant4_story4,\n",
    "          \"participant5\" : participant5_story4}\n"
   ]
  },
  {
   "cell_type": "code",
   "execution_count": null,
   "id": "4e9cf25f",
   "metadata": {},
   "outputs": [],
   "source": []
  },
  {
   "cell_type": "markdown",
   "id": "deb63d8c",
   "metadata": {},
   "source": [
    "##### Krippendorff's Alpha Function"
   ]
  },
  {
   "cell_type": "code",
   "execution_count": 19,
   "id": "b3849db4",
   "metadata": {},
   "outputs": [],
   "source": [
    "# Krippendorff's Alpha - Inter-rater agreement measure\n",
    "# Code from https://github.com/grrrr/krippendorff-alpha/blob/master/krippendorff_alpha.py\n",
    "\n",
    "def nominal_metric(a, b):\n",
    "    return a != b\n",
    "\n",
    "def interval_metric(a, b):\n",
    "    return (a-b)**2\n",
    "\n",
    "def ratio_metric(a, b):\n",
    "    return ((a-b)/(a+b))**2\n",
    "\n",
    "def krippendorff_alpha(data, metric=interval_metric, force_vecmath=False, convert_items=float, missing_items=None):\n",
    "    '''\n",
    "    Python implementation of Krippendorff's alpha -- inter-rater reliability\n",
    "    (c)2011-17 Thomas Grill (http://grrrr.org)\n",
    "    Python version >= 2.4 required\n",
    "\n",
    "    Calculate Krippendorff's alpha (inter-rater reliability):\n",
    "    \n",
    "    data is in the format\n",
    "    [\n",
    "        {unit1:value, unit2:value, ...},  # coder 1\n",
    "        {unit1:value, unit3:value, ...},   # coder 2\n",
    "        ...                            # more coders\n",
    "    ]\n",
    "    or it is a sequence of (masked) sequences (list, numpy.array, numpy.ma.array, e.g.) with rows corresponding to \n",
    "    coders and columns to items\n",
    "    \n",
    "    metric: function calculating the pairwise distance\n",
    "    force_vecmath: force vector math for custom metrics (numpy required)\n",
    "    convert_items: function for the type conversion of items (default: float)\n",
    "    missing_items: indicator for missing items (default: None)\n",
    "    '''\n",
    "    \n",
    "    # number of coders\n",
    "    m = len(data)\n",
    "    \n",
    "    # set of constants identifying missing values\n",
    "    if missing_items is None:\n",
    "        maskitems = []\n",
    "    else:\n",
    "        maskitems = list(missing_items)\n",
    "    if np is not None:\n",
    "        maskitems.append(np.ma.masked_singleton)\n",
    "    \n",
    "    # convert input data to a dict of items\n",
    "    units = {}\n",
    "    for d in data:\n",
    "        try:\n",
    "            # try if d behaves as a dict\n",
    "            diter = d.items()\n",
    "        except AttributeError:\n",
    "            # sequence assumed for d\n",
    "            diter = enumerate(d)\n",
    "            \n",
    "        for it, g in diter:\n",
    "            if g not in maskitems:\n",
    "                try:\n",
    "                    its = units[it]\n",
    "                except KeyError:\n",
    "                    its = []\n",
    "                    units[it] = its\n",
    "                its.append(convert_items(g))\n",
    "\n",
    "\n",
    "    units = dict((it, d) for it, d in units.items() if len(d) > 1)  # units with pairable values\n",
    "    n = sum(len(pv) for pv in units.values())  # number of pairable values\n",
    "    \n",
    "    if n == 0:\n",
    "        raise ValueError(\"No items to compare.\")\n",
    "    \n",
    "    np_metric = (np is not None) and ((metric in (interval_metric, nominal_metric, ratio_metric)) or force_vecmath)\n",
    "    \n",
    "    Do = 0.\n",
    "    for grades in units.values():\n",
    "        if np_metric:\n",
    "            gr = np.asarray(grades)\n",
    "            Du = sum(np.sum(metric(gr, gri)) for gri in gr)\n",
    "        else:\n",
    "            Du = sum(metric(gi, gj) for gi in grades for gj in grades)\n",
    "        Do += Du/float(len(grades)-1)\n",
    "    Do /= float(n)\n",
    "\n",
    "    if Do == 0:\n",
    "        return 1.\n",
    "\n",
    "    De = 0.\n",
    "    for g1 in units.values():\n",
    "        if np_metric:\n",
    "            d1 = np.asarray(g1)\n",
    "            for g2 in units.values():\n",
    "                De += sum(np.sum(metric(d1, gj)) for gj in g2)\n",
    "        else:\n",
    "            for g2 in units.values():\n",
    "                De += sum(metric(gi, gj) for gi in g1 for gj in g2)\n",
    "    De /= float(n*(n-1))\n",
    "\n",
    "    return 1.-Do/De if (Do and De) else 1.\n"
   ]
  },
  {
   "cell_type": "code",
   "execution_count": null,
   "id": "e859e573",
   "metadata": {},
   "outputs": [],
   "source": []
  },
  {
   "cell_type": "markdown",
   "id": "2b592dd0",
   "metadata": {},
   "source": [
    "##### Function to organize annotation data"
   ]
  },
  {
   "cell_type": "code",
   "execution_count": 25,
   "id": "04a4ce2a",
   "metadata": {},
   "outputs": [],
   "source": [
    "\n",
    "def get_info_per_participant(participant):\n",
    "    \n",
    "    references_list = [] # Only references given in the main ref label box\n",
    "    references_list_with_sameLabels = [] # Reference in the main box plus sameAsOtherLabel box \n",
    "    animacyType_list = []\n",
    "    animacyType_list_converted_num = []\n",
    "    same_as_other_label_values = []\n",
    "    for page, page_info in participant.items():\n",
    "        for panel, panel_info in page_info.items():\n",
    "            agents = panel_info[\"Agents\"]\n",
    "            for agent, agent_info in agents.items():\n",
    "                ref_label = agent_info[\"ref_label\"]\n",
    "                references_list.append(ref_label)\n",
    "                if (ref_label != \"T\"):\n",
    "                    isSameAsOtherLabelValue = agent_info[\"isSameAsOtherLabel\"]\n",
    "                    if (isSameAsOtherLabelValue == True):\n",
    "                        #print(\"isSameAsOtherLabelValue: True\")\n",
    "                        same_as_other_label_values.append(1)\n",
    "                        sameAsOtherLabelRef = agent_info[\"isSameAsOtherLabelRef\"]\n",
    "                        #print((agent_info[\"ref_label\"], sameAsOtherLabelRef))\n",
    "                        references_list_with_sameLabels.append(agent_info[\"ref_label\"]+ \"/\"+ sameAsOtherLabelRef)\n",
    "                    else:\n",
    "                        same_as_other_label_values.append(0)\n",
    "                else:\n",
    "                    same_as_other_label_values.append(0)\n",
    "                animacyType_list.append(agent_info[\"animacyType\"])\n",
    "                if (agent_info[\"animacyType\"] == \"humanAnimate\"):\n",
    "                    animacyType_list_converted_num.append(1.0)\n",
    "                if (agent_info[\"animacyType\"] == \"humanLikeAnimate\"):\n",
    "                    animacyType_list_converted_num.append(2.0)\n",
    "                if (agent_info[\"animacyType\"] == \"nonHumanAnimate\"):\n",
    "                    animacyType_list_converted_num.append(3.0)\n",
    "                if (agent_info[\"animacyType\"] == \"ambiguousAnimate\"):\n",
    "                    animacyType_list_converted_num.append(4.0)\n",
    "                if (agent_info[\"animacyType\"] == \"inanimate\"):   \n",
    "                    animacyType_list_converted_num.append(5.0)\n",
    "                    \n",
    "    #print(animacyType_list_converted_num)           \n",
    "    #print(references_list)\n",
    "    #print(animacyType_list)\n",
    "    #print(references_list_with_sameLabels)\n",
    "    \n",
    "    return references_list, animacyType_list, animacyType_list_converted_num, references_list_with_sameLabels, same_as_other_label_values  \n",
    "    \n",
    "    "
   ]
  },
  {
   "cell_type": "markdown",
   "id": "51c5a273",
   "metadata": {},
   "source": [
    "##### Calculate All-against-all Krippendorff's alpha scores per story"
   ]
  },
  {
   "cell_type": "markdown",
   "id": "e1d4138c",
   "metadata": {},
   "source": [
    "Story 1"
   ]
  },
  {
   "cell_type": "code",
   "execution_count": 26,
   "id": "3ae2218b",
   "metadata": {},
   "outputs": [],
   "source": [
    "p1_refList1, p1_animacyTypeList1, p1_animacyTypeListNums1, p1_refListSameLabels1, p1_sameLabelsValues1 =  get_info_per_participant(story1[\"participant1\"])\n",
    "p2_refList1, p2_animacyTypeList1, p2_animacyTypeListNums1, p2_refListSameLabels1, p2_sameLabelsValues1 =  get_info_per_participant(story1[\"participant2\"]) \n",
    "p3_refList1, p3_animacyTypeList1, p3_animacyTypeListNums1, p3_refListSameLabels1, p3_sameLabelsValues1 =  get_info_per_participant(story1[\"participant3\"])\n",
    "p4_refList1, p4_animacyTypeList1, p4_animacyTypeListNums1, p4_refListSameLabels1, p4_sameLabelsValues1 =  get_info_per_participant(story1[\"participant4\"])\n",
    "p5_refList1, p5_animacyTypeList1, p5_animacyTypeListNums1, p5_refListSameLabels1, p5_sameLabelsValues1 =  get_info_per_participant(story1[\"participant5\"])\n",
    "\n"
   ]
  },
  {
   "cell_type": "code",
   "execution_count": 28,
   "id": "f1c517b1",
   "metadata": {},
   "outputs": [
    {
     "name": "stdout",
     "output_type": "stream",
     "text": [
      "Krippendorff's alpha scores: \n",
      "nominal:  0.4412709512466947\n",
      "ordinal:  0.5411357946190836\n"
     ]
    }
   ],
   "source": [
    "kalpha = krippendorff_alpha([p1_animacyTypeListNums1, p2_animacyTypeListNums1, p3_animacyTypeListNums1, p4_animacyTypeListNums1, p5_animacyTypeListNums1], nominal_metric) # get the k alpha for each ind agent\n",
    "print(\"Krippendorff's alpha scores: \")\n",
    "print(\"nominal: \", kalpha)\n",
    "print(\"ordinal: \", krippendorff.alpha([p1_animacyTypeListNums1, p2_animacyTypeListNums1, p3_animacyTypeListNums1, p4_animacyTypeListNums1, p5_animacyTypeListNums1], level_of_measurement=\"interval\"))\n",
    "\n",
    "\n"
   ]
  },
  {
   "cell_type": "code",
   "execution_count": 30,
   "id": "260413b8",
   "metadata": {},
   "outputs": [
    {
     "name": "stdout",
     "output_type": "stream",
     "text": [
      "Show the chosen animacy category annotations per participant\n",
      "\n",
      "\n",
      "Participant 1 *****************\n",
      "['humanAnimate', 'humanAnimate', 'humanLikeAnimate', 'humanLikeAnimate', 'humanLikeAnimate', 'humanLikeAnimate', 'humanLikeAnimate', 'humanLikeAnimate', 'humanLikeAnimate', 'humanLikeAnimate', 'humanLikeAnimate', 'ambiguousAnimate', 'humanLikeAnimate', 'humanLikeAnimate', 'humanLikeAnimate', 'humanLikeAnimate', 'humanLikeAnimate', 'humanLikeAnimate', 'humanAnimate', 'humanAnimate', 'humanAnimate', 'humanAnimate', 'humanAnimate', 'humanAnimate', 'humanAnimate', 'humanAnimate', 'humanAnimate', 'humanAnimate', 'humanAnimate', 'humanAnimate', 'humanAnimate', 'humanAnimate', 'humanAnimate', 'humanAnimate', 'humanAnimate', 'humanAnimate', 'humanAnimate', 'humanAnimate', 'humanAnimate', 'humanAnimate', 'humanAnimate', 'humanAnimate', 'humanAnimate', 'humanLikeAnimate', 'humanLikeAnimate', 'humanLikeAnimate', 'humanAnimate', 'humanAnimate', 'humanLikeAnimate', 'ambiguousAnimate', 'ambiguousAnimate', 'humanLikeAnimate', 'humanAnimate', 'humanAnimate', 'humanLikeAnimate', 'humanAnimate', 'humanAnimate', 'humanLikeAnimate', 'humanAnimate', 'humanAnimate', 'humanAnimate', 'humanAnimate', 'humanAnimate', 'humanAnimate', 'ambiguousAnimate', 'humanAnimate', 'humanAnimate', 'humanAnimate', 'humanAnimate', 'humanAnimate', 'humanAnimate', 'ambiguousAnimate', 'humanAnimate', 'humanAnimate', 'humanAnimate', 'humanAnimate', 'humanAnimate', 'humanAnimate', 'humanAnimate', 'humanAnimate', 'humanAnimate', 'humanAnimate', 'humanAnimate', 'humanAnimate', 'humanLikeAnimate', 'humanLikeAnimate', 'humanLikeAnimate', 'humanLikeAnimate', 'humanLikeAnimate', 'humanAnimate', 'humanAnimate', 'humanAnimate', 'humanAnimate', 'humanAnimate', 'humanAnimate', 'humanAnimate', 'humanAnimate', 'humanAnimate', 'humanAnimate', 'humanLikeAnimate', 'humanLikeAnimate', 'humanLikeAnimate', 'humanLikeAnimate', 'humanLikeAnimate', 'humanLikeAnimate', 'humanLikeAnimate', 'humanLikeAnimate', 'humanAnimate', 'humanAnimate']\n",
      "\n",
      "\n",
      "Participant 2 *****************\n",
      "['humanAnimate', 'humanAnimate', 'humanLikeAnimate', 'humanLikeAnimate', 'humanLikeAnimate', 'humanLikeAnimate', 'humanLikeAnimate', 'humanLikeAnimate', 'humanLikeAnimate', 'humanLikeAnimate', 'humanLikeAnimate', 'humanLikeAnimate', 'humanLikeAnimate', 'humanLikeAnimate', 'humanLikeAnimate', 'humanLikeAnimate', 'humanLikeAnimate', 'humanLikeAnimate', 'humanAnimate', 'humanAnimate', 'humanAnimate', 'humanAnimate', 'humanAnimate', 'humanAnimate', 'humanAnimate', 'humanAnimate', 'humanAnimate', 'humanAnimate', 'humanLikeAnimate', 'humanLikeAnimate', 'humanLikeAnimate', 'humanLikeAnimate', 'humanLikeAnimate', 'humanLikeAnimate', 'humanLikeAnimate', 'humanLikeAnimate', 'humanLikeAnimate', 'humanLikeAnimate', 'humanAnimate', 'humanAnimate', 'humanAnimate', 'humanAnimate', 'humanAnimate', 'humanLikeAnimate', 'humanLikeAnimate', 'humanLikeAnimate', 'humanAnimate', 'humanAnimate', 'humanLikeAnimate', 'humanLikeAnimate', 'humanLikeAnimate', 'humanLikeAnimate', 'humanAnimate', 'humanAnimate', 'humanLikeAnimate', 'humanAnimate', 'humanAnimate', 'humanLikeAnimate', 'humanAnimate', 'humanAnimate', 'humanLikeAnimate', 'humanLikeAnimate', 'humanLikeAnimate', 'humanAnimate', 'humanLikeAnimate', 'humanAnimate', 'humanLikeAnimate', 'humanAnimate', 'humanAnimate', 'humanAnimate', 'humanAnimate', 'humanAnimate', 'humanAnimate', 'humanAnimate', 'humanAnimate', 'humanAnimate', 'humanAnimate', 'humanAnimate', 'humanLikeAnimate', 'humanAnimate', 'humanLikeAnimate', 'humanAnimate', 'humanAnimate', 'humanAnimate', 'humanLikeAnimate', 'humanLikeAnimate', 'humanLikeAnimate', 'humanLikeAnimate', 'humanLikeAnimate', 'humanLikeAnimate', 'humanAnimate', 'humanAnimate', 'humanAnimate', 'humanAnimate', 'humanAnimate', 'humanAnimate', 'humanAnimate', 'humanAnimate', 'humanAnimate', 'humanLikeAnimate', 'humanLikeAnimate', 'humanLikeAnimate', 'humanLikeAnimate', 'humanLikeAnimate', 'humanLikeAnimate', 'humanLikeAnimate', 'humanLikeAnimate', 'humanAnimate', 'humanAnimate']\n",
      "\n",
      "\n",
      "Participant 3 *****************\n",
      "['humanAnimate', 'humanAnimate', 'ambiguousAnimate', 'ambiguousAnimate', 'ambiguousAnimate', 'ambiguousAnimate', 'ambiguousAnimate', 'ambiguousAnimate', 'ambiguousAnimate', 'ambiguousAnimate', 'ambiguousAnimate', 'ambiguousAnimate', 'ambiguousAnimate', 'ambiguousAnimate', 'ambiguousAnimate', 'ambiguousAnimate', 'ambiguousAnimate', 'ambiguousAnimate', 'humanAnimate', 'humanAnimate', 'humanAnimate', 'humanAnimate', 'humanAnimate', 'humanAnimate', 'humanAnimate', 'humanAnimate', 'humanAnimate', 'humanAnimate', 'ambiguousAnimate', 'ambiguousAnimate', 'ambiguousAnimate', 'ambiguousAnimate', 'ambiguousAnimate', 'ambiguousAnimate', 'ambiguousAnimate', 'ambiguousAnimate', 'ambiguousAnimate', 'ambiguousAnimate', 'humanAnimate', 'humanAnimate', 'humanAnimate', 'humanAnimate', 'humanAnimate', 'ambiguousAnimate', 'ambiguousAnimate', 'ambiguousAnimate', 'humanAnimate', 'humanAnimate', 'ambiguousAnimate', 'ambiguousAnimate', 'ambiguousAnimate', 'ambiguousAnimate', 'humanAnimate', 'humanAnimate', 'ambiguousAnimate', 'humanAnimate', 'humanAnimate', 'ambiguousAnimate', 'humanAnimate', 'humanAnimate', 'ambiguousAnimate', 'ambiguousAnimate', 'ambiguousAnimate', 'humanAnimate', 'ambiguousAnimate', 'humanAnimate', 'ambiguousAnimate', 'humanAnimate', 'humanAnimate', 'humanAnimate', 'humanAnimate', 'humanAnimate', 'humanAnimate', 'humanAnimate', 'humanAnimate', 'humanAnimate', 'humanAnimate', 'humanAnimate', 'ambiguousAnimate', 'humanAnimate', 'ambiguousAnimate', 'humanAnimate', 'humanAnimate', 'humanAnimate', 'ambiguousAnimate', 'ambiguousAnimate', 'ambiguousAnimate', 'ambiguousAnimate', 'ambiguousAnimate', 'ambiguousAnimate', 'ambiguousAnimate', 'humanAnimate', 'humanAnimate', 'humanAnimate', 'humanAnimate', 'humanAnimate', 'humanAnimate', 'humanAnimate', 'humanAnimate', 'ambiguousAnimate', 'ambiguousAnimate', 'ambiguousAnimate', 'ambiguousAnimate', 'ambiguousAnimate', 'ambiguousAnimate', 'ambiguousAnimate', 'ambiguousAnimate', 'humanAnimate', 'humanAnimate']\n",
      "\n",
      "\n",
      "Participant 4 *****************\n",
      "['humanAnimate', 'humanAnimate', 'ambiguousAnimate', 'ambiguousAnimate', 'ambiguousAnimate', 'ambiguousAnimate', 'ambiguousAnimate', 'ambiguousAnimate', 'ambiguousAnimate', 'ambiguousAnimate', 'ambiguousAnimate', 'ambiguousAnimate', 'ambiguousAnimate', 'ambiguousAnimate', 'ambiguousAnimate', 'ambiguousAnimate', 'ambiguousAnimate', 'ambiguousAnimate', 'humanAnimate', 'humanAnimate', 'humanAnimate', 'humanAnimate', 'humanAnimate', 'humanAnimate', 'humanAnimate', 'humanAnimate', 'humanAnimate', 'humanAnimate', 'ambiguousAnimate', 'ambiguousAnimate', 'ambiguousAnimate', 'ambiguousAnimate', 'ambiguousAnimate', 'ambiguousAnimate', 'ambiguousAnimate', 'ambiguousAnimate', 'ambiguousAnimate', 'ambiguousAnimate', 'humanAnimate', 'humanAnimate', 'humanAnimate', 'humanAnimate', 'humanAnimate', 'ambiguousAnimate', 'ambiguousAnimate', 'ambiguousAnimate', 'humanAnimate', 'humanAnimate', 'ambiguousAnimate', 'ambiguousAnimate', 'ambiguousAnimate', 'ambiguousAnimate', 'humanAnimate', 'humanAnimate', 'ambiguousAnimate', 'humanAnimate', 'humanAnimate', 'ambiguousAnimate', 'humanAnimate', 'humanAnimate', 'ambiguousAnimate', 'ambiguousAnimate', 'ambiguousAnimate', 'humanAnimate', 'ambiguousAnimate', 'humanAnimate', 'ambiguousAnimate', 'humanAnimate', 'humanAnimate', 'humanAnimate', 'humanAnimate', 'ambiguousAnimate', 'humanAnimate', 'humanAnimate', 'humanAnimate', 'humanAnimate', 'humanAnimate', 'humanAnimate', 'ambiguousAnimate', 'humanAnimate', 'ambiguousAnimate', 'humanAnimate', 'humanAnimate', 'humanAnimate', 'ambiguousAnimate', 'ambiguousAnimate', 'ambiguousAnimate', 'ambiguousAnimate', 'ambiguousAnimate', 'ambiguousAnimate', 'humanAnimate', 'humanAnimate', 'humanAnimate', 'humanAnimate', 'humanAnimate', 'humanAnimate', 'humanAnimate', 'humanAnimate', 'humanAnimate', 'ambiguousAnimate', 'ambiguousAnimate', 'ambiguousAnimate', 'ambiguousAnimate', 'ambiguousAnimate', 'ambiguousAnimate', 'ambiguousAnimate', 'ambiguousAnimate', 'humanAnimate', 'humanAnimate']\n",
      "\n",
      "\n",
      "Participant 5 *****************\n",
      "['humanAnimate', 'humanAnimate', 'ambiguousAnimate', 'ambiguousAnimate', 'ambiguousAnimate', 'ambiguousAnimate', 'ambiguousAnimate', 'ambiguousAnimate', 'ambiguousAnimate', 'ambiguousAnimate', 'ambiguousAnimate', 'ambiguousAnimate', 'ambiguousAnimate', 'ambiguousAnimate', 'ambiguousAnimate', 'ambiguousAnimate', 'ambiguousAnimate', 'ambiguousAnimate', 'humanAnimate', 'humanAnimate', 'humanAnimate', 'humanAnimate', 'humanAnimate', 'humanAnimate', 'humanAnimate', 'humanAnimate', 'humanAnimate', 'humanAnimate', 'ambiguousAnimate', 'ambiguousAnimate', 'humanAnimate', 'ambiguousAnimate', 'ambiguousAnimate', 'ambiguousAnimate', 'ambiguousAnimate', 'ambiguousAnimate', 'ambiguousAnimate', 'ambiguousAnimate', 'humanAnimate', 'humanAnimate', 'humanAnimate', 'humanAnimate', 'humanAnimate', 'ambiguousAnimate', 'ambiguousAnimate', 'ambiguousAnimate', 'ambiguousAnimate', 'humanAnimate', 'ambiguousAnimate', 'ambiguousAnimate', 'ambiguousAnimate', 'ambiguousAnimate', 'humanAnimate', 'humanAnimate', 'ambiguousAnimate', 'humanAnimate', 'humanAnimate', 'ambiguousAnimate', 'humanAnimate', 'humanAnimate', 'humanLikeAnimate', 'humanLikeAnimate', 'humanLikeAnimate', 'humanAnimate', 'humanLikeAnimate', 'humanAnimate', 'humanLikeAnimate', 'humanAnimate', 'humanAnimate', 'humanAnimate', 'humanAnimate', 'ambiguousAnimate', 'humanAnimate', 'humanAnimate', 'humanAnimate', 'humanAnimate', 'humanAnimate', 'humanAnimate', 'humanLikeAnimate', 'humanAnimate', 'humanLikeAnimate', 'humanAnimate', 'humanAnimate', 'humanLikeAnimate', 'humanLikeAnimate', 'humanLikeAnimate', 'humanLikeAnimate', 'humanLikeAnimate', 'humanLikeAnimate', 'humanLikeAnimate', 'humanLikeAnimate', 'humanAnimate', 'humanAnimate', 'humanAnimate', 'humanAnimate', 'humanAnimate', 'humanAnimate', 'humanAnimate', 'humanAnimate', 'ambiguousAnimate', 'ambiguousAnimate', 'ambiguousAnimate', 'ambiguousAnimate', 'ambiguousAnimate', 'ambiguousAnimate', 'ambiguousAnimate', 'ambiguousAnimate', 'humanAnimate', 'humanAnimate']\n"
     ]
    }
   ],
   "source": [
    "print(\"Show the chosen animacy category annotations per participant\")\n",
    "print(\"\\n\")\n",
    "\n",
    "print(\"Participant 1 *****************\")\n",
    "print(p1_animacyTypeList1)\n",
    "print(\"\\n\")\n",
    "print(\"Participant 2 *****************\")\n",
    "print(p2_animacyTypeList1)\n",
    "print(\"\\n\")\n",
    "print(\"Participant 3 *****************\")\n",
    "print(p3_animacyTypeList1)\n",
    "print(\"\\n\")\n",
    "print(\"Participant 4 *****************\")\n",
    "print(p4_animacyTypeList1)\n",
    "print(\"\\n\")\n",
    "print(\"Participant 5 *****************\")\n",
    "print(p5_animacyTypeList1)\n",
    "\n"
   ]
  },
  {
   "cell_type": "code",
   "execution_count": null,
   "id": "e860a8ee",
   "metadata": {},
   "outputs": [],
   "source": []
  },
  {
   "cell_type": "markdown",
   "id": "b903695a",
   "metadata": {},
   "source": [
    "Story 2"
   ]
  },
  {
   "cell_type": "code",
   "execution_count": 32,
   "id": "c870e6ad",
   "metadata": {},
   "outputs": [],
   "source": [
    "\n",
    "p1_refList, p1_animacyTypeList, p1_animacyTypeListNums, p1_refListSameLabels, p1_sameLabelsValues =  get_info_per_participant(story2[\"participant1\"])\n",
    "p2_refList, p2_animacyTypeList, p2_animacyTypeListNums, p2_refListSameLabels, p2_sameLabelsValues =  get_info_per_participant(story2[\"participant2\"]) \n",
    "p3_refList, p3_animacyTypeList, p3_animacyTypeListNums, p3_refListSameLabels, p3_sameLabelsValues =  get_info_per_participant(story2[\"participant3\"])\n",
    "p4_refList, p4_animacyTypeList, p4_animacyTypeListNums, p4_refListSameLabels, p4_sameLabelsValues =  get_info_per_participant(story2[\"participant4\"])\n",
    "p5_refList, p5_animacyTypeList, p5_animacyTypeListNums, p5_refListSameLabels, p5_sameLabelsValues =  get_info_per_participant(story2[\"participant5\"])\n"
   ]
  },
  {
   "cell_type": "code",
   "execution_count": 34,
   "id": "81d14bc0",
   "metadata": {},
   "outputs": [
    {
     "name": "stdout",
     "output_type": "stream",
     "text": [
      "Krippendorff's alpha scores: \n",
      "nominal:  0.5509392452191573\n",
      "ordinal:  0.7512710797885729\n"
     ]
    }
   ],
   "source": [
    "kalpha = krippendorff_alpha([p1_animacyTypeListNums, p2_animacyTypeListNums, p3_animacyTypeListNums, p4_animacyTypeListNums, p5_animacyTypeListNums], nominal_metric) # get the k alpha for each ind agent\n",
    "print(\"Krippendorff's alpha scores: \")\n",
    "print(\"nominal: \", kalpha)\n",
    "print(\"ordinal: \", krippendorff.alpha([p1_animacyTypeListNums, p2_animacyTypeListNums, p3_animacyTypeListNums, p4_animacyTypeListNums, p5_animacyTypeListNums], level_of_measurement=\"interval\"))\n",
    "\n"
   ]
  },
  {
   "cell_type": "code",
   "execution_count": 35,
   "id": "64c987f4",
   "metadata": {},
   "outputs": [
    {
     "name": "stdout",
     "output_type": "stream",
     "text": [
      "Show the chosen animacy category annotations per participant\n",
      "\n",
      "\n",
      "Participant 1 *****************\n",
      "['humanLikeAnimate', 'humanAnimate', 'humanAnimate', 'humanAnimate', 'humanAnimate', 'humanAnimate', 'humanAnimate', 'humanAnimate', 'humanAnimate', 'humanAnimate', 'humanAnimate', 'humanAnimate', 'humanAnimate', 'humanAnimate', 'humanAnimate', 'humanAnimate', 'humanAnimate', 'humanAnimate', 'humanLikeAnimate', 'humanLikeAnimate', 'humanLikeAnimate', 'humanLikeAnimate', 'humanLikeAnimate', 'humanLikeAnimate', 'humanAnimate', 'humanAnimate', 'humanAnimate', 'ambiguousAnimate', 'humanAnimate', 'ambiguousAnimate', 'humanAnimate', 'ambiguousAnimate', 'humanAnimate', 'ambiguousAnimate', 'humanAnimate', 'humanAnimate', 'humanAnimate', 'humanAnimate', 'humanAnimate', 'humanAnimate', 'humanAnimate', 'humanAnimate', 'humanAnimate', 'humanAnimate', 'humanAnimate', 'humanAnimate', 'humanAnimate', 'humanAnimate', 'humanAnimate']\n",
      "\n",
      "\n",
      "Participant 2 *****************\n",
      "['humanAnimate', 'humanAnimate', 'humanAnimate', 'humanAnimate', 'humanAnimate', 'humanAnimate', 'humanAnimate', 'humanAnimate', 'humanAnimate', 'humanAnimate', 'nonHumanAnimate', 'nonHumanAnimate', 'nonHumanAnimate', 'humanAnimate', 'humanAnimate', 'nonHumanAnimate', 'humanAnimate', 'humanAnimate', 'humanAnimate', 'humanAnimate', 'humanAnimate', 'humanAnimate', 'humanAnimate', 'humanAnimate', 'humanAnimate', 'humanAnimate', 'humanAnimate', 'ambiguousAnimate', 'humanAnimate', 'ambiguousAnimate', 'humanAnimate', 'ambiguousAnimate', 'humanAnimate', 'ambiguousAnimate', 'humanAnimate', 'humanAnimate', 'humanAnimate', 'humanAnimate', 'humanAnimate', 'humanAnimate', 'humanAnimate', 'humanAnimate', 'humanAnimate', 'humanAnimate', 'humanAnimate', 'humanAnimate', 'humanAnimate', 'humanAnimate', 'humanAnimate']\n",
      "\n",
      "\n",
      "Participant 3 *****************\n",
      "['humanLikeAnimate', 'humanLikeAnimate', 'humanAnimate', 'humanAnimate', 'humanAnimate', 'humanAnimate', 'humanAnimate', 'humanAnimate', 'humanAnimate', 'humanAnimate', 'humanAnimate', 'humanAnimate', 'humanAnimate', 'humanAnimate', 'humanAnimate', 'humanAnimate', 'humanAnimate', 'humanAnimate', 'humanLikeAnimate', 'humanLikeAnimate', 'humanLikeAnimate', 'humanLikeAnimate', 'humanLikeAnimate', 'humanLikeAnimate', 'humanAnimate', 'humanAnimate', 'humanAnimate', 'ambiguousAnimate', 'humanAnimate', 'ambiguousAnimate', 'humanAnimate', 'ambiguousAnimate', 'humanAnimate', 'ambiguousAnimate', 'humanAnimate', 'humanAnimate', 'humanAnimate', 'humanAnimate', 'humanAnimate', 'humanAnimate', 'humanAnimate', 'humanAnimate', 'humanAnimate', 'humanAnimate', 'humanAnimate', 'humanAnimate', 'humanAnimate', 'humanAnimate', 'humanAnimate']\n",
      "\n",
      "\n",
      "Participant 4 *****************\n",
      "['humanLikeAnimate', 'humanAnimate', 'humanAnimate', 'humanAnimate', 'humanAnimate', 'humanAnimate', 'humanAnimate', 'humanAnimate', 'humanAnimate', 'humanAnimate', 'humanLikeAnimate', 'humanLikeAnimate', 'humanLikeAnimate', 'humanAnimate', 'humanAnimate', 'humanLikeAnimate', 'humanAnimate', 'humanAnimate', 'humanLikeAnimate', 'humanLikeAnimate', 'humanLikeAnimate', 'humanLikeAnimate', 'humanLikeAnimate', 'humanLikeAnimate', 'humanAnimate', 'humanAnimate', 'humanAnimate', 'humanLikeAnimate', 'humanAnimate', 'humanLikeAnimate', 'humanAnimate', 'humanLikeAnimate', 'humanAnimate', 'humanLikeAnimate', 'humanAnimate', 'humanAnimate', 'humanAnimate', 'humanAnimate', 'humanAnimate', 'humanAnimate', 'humanAnimate', 'humanAnimate', 'humanAnimate', 'humanAnimate', 'humanAnimate', 'humanAnimate', 'humanAnimate', 'humanAnimate', 'humanAnimate']\n",
      "\n",
      "\n",
      "Participant 5 *****************\n",
      "['humanAnimate', 'humanAnimate', 'humanAnimate', 'humanAnimate', 'humanAnimate', 'humanAnimate', 'humanAnimate', 'humanAnimate', 'humanAnimate', 'humanAnimate', 'humanLikeAnimate', 'humanLikeAnimate', 'humanLikeAnimate', 'humanAnimate', 'humanAnimate', 'humanAnimate', 'humanAnimate', 'humanAnimate', 'humanAnimate', 'humanLikeAnimate', 'humanLikeAnimate', 'humanLikeAnimate', 'humanLikeAnimate', 'humanLikeAnimate', 'humanAnimate', 'humanAnimate', 'humanAnimate', 'ambiguousAnimate', 'humanAnimate', 'ambiguousAnimate', 'humanAnimate', 'ambiguousAnimate', 'humanLikeAnimate', 'ambiguousAnimate', 'humanAnimate', 'humanAnimate', 'humanAnimate', 'humanAnimate', 'humanAnimate', 'humanAnimate', 'humanAnimate', 'humanAnimate', 'humanAnimate', 'humanAnimate', 'humanAnimate', 'humanAnimate', 'humanAnimate', 'humanAnimate', 'humanAnimate']\n"
     ]
    }
   ],
   "source": [
    "print(\"Show the chosen animacy category annotations per participant\")\n",
    "print(\"\\n\")\n",
    "\n",
    "print(\"Participant 1 *****************\")\n",
    "print(p1_animacyTypeList)\n",
    "print(\"\\n\")\n",
    "print(\"Participant 2 *****************\")\n",
    "print(p2_animacyTypeList)\n",
    "print(\"\\n\")\n",
    "print(\"Participant 3 *****************\")\n",
    "print(p3_animacyTypeList)\n",
    "print(\"\\n\")\n",
    "print(\"Participant 4 *****************\")\n",
    "print(p4_animacyTypeList)\n",
    "print(\"\\n\")\n",
    "print(\"Participant 5 *****************\")\n",
    "print(p5_animacyTypeList)\n",
    "\n"
   ]
  },
  {
   "cell_type": "code",
   "execution_count": null,
   "id": "ddcd2f52",
   "metadata": {},
   "outputs": [],
   "source": []
  },
  {
   "cell_type": "markdown",
   "id": "54384191",
   "metadata": {},
   "source": [
    "Story 3"
   ]
  },
  {
   "cell_type": "code",
   "execution_count": 36,
   "id": "d78bd4a8",
   "metadata": {},
   "outputs": [
    {
     "name": "stdout",
     "output_type": "stream",
     "text": [
      "Krippendorff's alpha scores: \n",
      "nominal:  0.3877373111197211\n",
      "ordinal:  0.55760078387458\n"
     ]
    }
   ],
   "source": [
    "p1_refList3, p1_animacyTypeList3, p1_animacyTypeListNums3, p1_refListSameLabels3, p1_sameLabelsValues3 =  get_info_per_participant(story3[\"participant1\"])\n",
    "p2_refList3, p2_animacyTypeList3, p2_animacyTypeListNums3, p2_refListSameLabels3, p2_sameLabelsValues3 =  get_info_per_participant(story3[\"participant2\"]) \n",
    "p3_refList3, p3_animacyTypeList3, p3_animacyTypeListNums3, p3_refListSameLabels3, p3_sameLabelsValues3 =  get_info_per_participant(story3[\"participant3\"])\n",
    "p4_refList3, p4_animacyTypeList3, p4_animacyTypeListNums3, p4_refListSameLabels3, p4_sameLabelsValues3 =  get_info_per_participant(story3[\"participant4\"])\n",
    "p5_refList3, p5_animacyTypeList3, p5_animacyTypeListNums3, p5_refListSameLabels3, p5_sameLabelsValues3 =  get_info_per_participant(story3[\"participant5\"])\n",
    "\n",
    "\n",
    "kalpha = krippendorff_alpha([p1_animacyTypeListNums3, p2_animacyTypeListNums3, p3_animacyTypeListNums3, p4_animacyTypeListNums3, p5_animacyTypeListNums3], nominal_metric) # get the k alpha for each ind agent\n",
    "print(\"Krippendorff's alpha scores: \")\n",
    "print(\"nominal: \", kalpha)\n",
    "print(\"ordinal: \", krippendorff.alpha([p1_animacyTypeListNums3, p2_animacyTypeListNums3, p3_animacyTypeListNums3, p4_animacyTypeListNums3, p5_animacyTypeListNums3], level_of_measurement=\"interval\"))\n"
   ]
  },
  {
   "cell_type": "code",
   "execution_count": 37,
   "id": "c28fed85",
   "metadata": {},
   "outputs": [
    {
     "name": "stdout",
     "output_type": "stream",
     "text": [
      "Show the chosen animacy category annotations per participant\n",
      "\n",
      "\n",
      "Participant 1 *****************\n",
      "['humanAnimate', 'ambiguousAnimate', 'humanAnimate', 'ambiguousAnimate', 'humanAnimate', 'ambiguousAnimate', 'humanAnimate', 'ambiguousAnimate', 'humanAnimate', 'humanAnimate', 'humanAnimate', 'humanAnimate', 'humanAnimate', 'humanAnimate', 'nonHumanAnimate', 'nonHumanAnimate', 'humanAnimate', 'humanAnimate', 'humanAnimate', 'humanAnimate', 'humanAnimate', 'humanAnimate', 'humanAnimate', 'humanAnimate', 'humanAnimate', 'humanAnimate', 'humanAnimate', 'humanAnimate', 'nonHumanAnimate', 'nonHumanAnimate', 'nonHumanAnimate', 'humanAnimate', 'humanAnimate', 'nonHumanAnimate', 'humanAnimate', 'humanAnimate', 'humanAnimate', 'humanAnimate', 'nonHumanAnimate', 'humanAnimate', 'nonHumanAnimate', 'humanAnimate', 'nonHumanAnimate', 'humanAnimate', 'humanAnimate', 'nonHumanAnimate', 'humanAnimate', 'humanAnimate', 'nonHumanAnimate', 'humanAnimate', 'humanAnimate', 'humanAnimate', 'nonHumanAnimate', 'humanAnimate', 'humanLikeAnimate', 'humanAnimate', 'humanAnimate', 'humanAnimate', 'humanAnimate']\n",
      "\n",
      "\n",
      "Participant 2 *****************\n",
      "['humanAnimate', 'humanAnimate', 'humanAnimate', 'humanAnimate', 'humanAnimate', 'humanAnimate', 'humanAnimate', 'humanLikeAnimate', 'humanAnimate', 'humanAnimate', 'humanAnimate', 'humanAnimate', 'humanAnimate', 'humanAnimate', 'nonHumanAnimate', 'nonHumanAnimate', 'humanAnimate', 'humanAnimate', 'humanAnimate', 'humanAnimate', 'humanAnimate', 'humanAnimate', 'humanAnimate', 'humanAnimate', 'humanAnimate', 'humanAnimate', 'humanAnimate', 'humanAnimate', 'nonHumanAnimate', 'nonHumanAnimate', 'nonHumanAnimate', 'humanAnimate', 'humanAnimate', 'nonHumanAnimate', 'humanAnimate', 'humanAnimate', 'humanAnimate', 'humanAnimate', 'nonHumanAnimate', 'humanAnimate', 'nonHumanAnimate', 'humanAnimate', 'nonHumanAnimate', 'humanAnimate', 'humanAnimate', 'nonHumanAnimate', 'humanAnimate', 'humanAnimate', 'nonHumanAnimate', 'humanAnimate', 'humanAnimate', 'humanAnimate', 'nonHumanAnimate', 'humanAnimate', 'humanAnimate', 'humanAnimate', 'humanAnimate', 'humanAnimate', 'humanAnimate']\n",
      "\n",
      "\n",
      "Participant 3 *****************\n",
      "['humanAnimate', 'humanAnimate', 'humanAnimate', 'humanAnimate', 'humanAnimate', 'humanAnimate', 'humanAnimate', 'humanAnimate', 'humanAnimate', 'humanAnimate', 'humanAnimate', 'humanAnimate', 'humanAnimate', 'humanAnimate', 'nonHumanAnimate', 'nonHumanAnimate', 'humanAnimate', 'humanAnimate', 'humanAnimate', 'humanAnimate', 'humanAnimate', 'humanAnimate', 'humanAnimate', 'humanAnimate', 'humanAnimate', 'humanAnimate', 'humanAnimate', 'humanAnimate', 'ambiguousAnimate', 'ambiguousAnimate', 'humanAnimate', 'ambiguousAnimate', 'humanAnimate', 'ambiguousAnimate', 'humanAnimate', 'humanAnimate', 'humanAnimate', 'humanAnimate', 'ambiguousAnimate', 'humanAnimate', 'ambiguousAnimate', 'humanAnimate', 'ambiguousAnimate', 'ambiguousAnimate', 'ambiguousAnimate', 'ambiguousAnimate', 'ambiguousAnimate', 'ambiguousAnimate', 'ambiguousAnimate', 'humanAnimate', 'humanAnimate', 'humanAnimate', 'ambiguousAnimate', 'humanAnimate', 'humanAnimate', 'humanAnimate', 'humanAnimate', 'humanAnimate', 'humanAnimate']\n",
      "\n",
      "\n",
      "Participant 4 *****************\n",
      "['humanAnimate', 'humanAnimate', 'humanAnimate', 'humanAnimate', 'humanAnimate', 'humanAnimate', 'humanAnimate', 'humanAnimate', 'humanAnimate', 'humanAnimate', 'humanAnimate', 'humanAnimate', 'humanAnimate', 'humanAnimate', 'humanLikeAnimate', 'humanLikeAnimate', 'humanAnimate', 'humanAnimate', 'humanAnimate', 'humanAnimate', 'humanAnimate', 'humanAnimate', 'humanAnimate', 'humanAnimate', 'humanAnimate', 'humanAnimate', 'humanAnimate', 'humanAnimate', 'nonHumanAnimate', 'ambiguousAnimate', 'ambiguousAnimate', 'humanAnimate', 'humanAnimate', 'humanLikeAnimate', 'humanAnimate', 'humanAnimate', 'nonHumanAnimate', 'humanAnimate', 'humanAnimate', 'humanAnimate', 'nonHumanAnimate', 'humanAnimate', 'ambiguousAnimate', 'humanLikeAnimate', 'humanLikeAnimate', 'ambiguousAnimate', 'humanAnimate', 'humanAnimate', 'ambiguousAnimate', 'humanAnimate', 'humanAnimate', 'humanAnimate', 'ambiguousAnimate', 'humanAnimate', 'ambiguousAnimate', 'humanAnimate', 'humanLikeAnimate', 'humanLikeAnimate', 'humanAnimate']\n",
      "\n",
      "\n",
      "Participant 5 *****************\n",
      "['humanAnimate', 'humanLikeAnimate', 'ambiguousAnimate', 'ambiguousAnimate', 'humanAnimate', 'humanAnimate', 'humanLikeAnimate', 'humanAnimate', 'humanAnimate', 'humanAnimate', 'humanAnimate', 'humanAnimate', 'humanAnimate', 'humanAnimate', 'nonHumanAnimate', 'ambiguousAnimate', 'humanAnimate', 'humanAnimate', 'humanAnimate', 'humanAnimate', 'humanAnimate', 'humanAnimate', 'humanAnimate', 'humanAnimate', 'humanAnimate', 'humanAnimate', 'humanAnimate', 'humanAnimate', 'nonHumanAnimate', 'nonHumanAnimate', 'nonHumanAnimate', 'humanAnimate', 'humanAnimate', 'nonHumanAnimate', 'humanAnimate', 'humanAnimate', 'humanAnimate', 'humanAnimate', 'ambiguousAnimate', 'humanAnimate', 'nonHumanAnimate', 'humanAnimate', 'ambiguousAnimate', 'humanLikeAnimate', 'humanLikeAnimate', 'nonHumanAnimate', 'nonHumanAnimate', 'nonHumanAnimate', 'nonHumanAnimate', 'humanLikeAnimate', 'humanLikeAnimate', 'humanAnimate', 'nonHumanAnimate', 'humanAnimate', 'ambiguousAnimate', 'humanAnimate', 'ambiguousAnimate', 'humanAnimate', 'humanLikeAnimate']\n"
     ]
    }
   ],
   "source": [
    "print(\"Show the chosen animacy category annotations per participant\")\n",
    "print(\"\\n\")\n",
    "\n",
    "print(\"Participant 1 *****************\")\n",
    "print(p1_animacyTypeList3)\n",
    "print(\"\\n\")\n",
    "print(\"Participant 2 *****************\")\n",
    "print(p2_animacyTypeList3)\n",
    "print(\"\\n\")\n",
    "print(\"Participant 3 *****************\")\n",
    "print(p3_animacyTypeList3)\n",
    "print(\"\\n\")\n",
    "print(\"Participant 4 *****************\")\n",
    "print(p4_animacyTypeList3)\n",
    "print(\"\\n\")\n",
    "print(\"Participant 5 *****************\")\n",
    "print(p5_animacyTypeList3)\n"
   ]
  },
  {
   "cell_type": "code",
   "execution_count": null,
   "id": "471117f0",
   "metadata": {},
   "outputs": [],
   "source": []
  },
  {
   "cell_type": "markdown",
   "id": "0e44ada9",
   "metadata": {},
   "source": [
    "Story 4"
   ]
  },
  {
   "cell_type": "code",
   "execution_count": 38,
   "id": "f4c09d99",
   "metadata": {},
   "outputs": [],
   "source": [
    "p1_refList4, p1_animacyTypeList4, p1_animacyTypeListNums4, p1_refListSameLabels4, p1_sameLabelsValues4 =  get_info_per_participant(story4[\"participant1\"])\n",
    "p2_refList4, p2_animacyTypeList4, p2_animacyTypeListNums4, p2_refListSameLabels4, p2_sameLabelsValues4 =  get_info_per_participant(story4[\"participant2\"])\n",
    "p3_refList4, p3_animacyTypeList4, p3_animacyTypeListNums4, p3_refListSameLabels4, p3_sameLabelsValues4 =  get_info_per_participant(story4[\"participant3\"])\n",
    "p4_refList4, p4_animacyTypeList4, p4_animacyTypeListNums4, p4_refListSameLabels4, p4_sameLabelsValues4 =  get_info_per_participant(story4[\"participant4\"])\n",
    "p5_refList4, p5_animacyTypeList4, p5_animacyTypeListNums4, p5_refListSameLabels4, p5_sameLabelsValues4 =  get_info_per_participant(story4[\"participant5\"])\n"
   ]
  },
  {
   "cell_type": "code",
   "execution_count": 39,
   "id": "51408bc4",
   "metadata": {},
   "outputs": [
    {
     "name": "stdout",
     "output_type": "stream",
     "text": [
      "Krippendorff's alpha scores: \n",
      "nominal:  0.7197802197802198\n",
      "ordinal:  0.7870493107104984\n"
     ]
    }
   ],
   "source": [
    "kalpha = krippendorff_alpha([p1_animacyTypeListNums4,p2_animacyTypeListNums4,p3_animacyTypeListNums4,p4_animacyTypeListNums4,p5_animacyTypeListNums4], nominal_metric) # get the k alpha for each ind agent\n",
    "print(\"Krippendorff's alpha scores: \")\n",
    "print(\"nominal: \", kalpha)\n",
    "print(\"ordinal: \", krippendorff.alpha([p1_animacyTypeListNums4,p2_animacyTypeListNums4,p3_animacyTypeListNums4,p4_animacyTypeListNums4,p5_animacyTypeListNums4], level_of_measurement=\"interval\"))\n",
    "\n"
   ]
  },
  {
   "cell_type": "code",
   "execution_count": 41,
   "id": "b5d40ae9",
   "metadata": {},
   "outputs": [
    {
     "name": "stdout",
     "output_type": "stream",
     "text": [
      "Show the chosen animacy category annotations per participant\n",
      "\n",
      "\n",
      "Participant 1 *****************\n",
      "['humanAnimate', 'nonHumanAnimate', 'humanAnimate', 'nonHumanAnimate', 'humanAnimate', 'humanAnimate', 'nonHumanAnimate', 'humanAnimate', 'nonHumanAnimate', 'humanAnimate', 'nonHumanAnimate', 'humanAnimate', 'nonHumanAnimate', 'nonHumanAnimate', 'humanAnimate', 'humanAnimate', 'humanAnimate', 'humanAnimate', 'humanAnimate', 'humanAnimate', 'humanAnimate', 'humanAnimate', 'humanAnimate', 'humanAnimate', 'humanAnimate', 'humanAnimate', 'humanAnimate', 'humanAnimate', 'humanAnimate', 'humanAnimate', 'humanAnimate', 'humanAnimate', 'humanAnimate', 'humanAnimate', 'humanAnimate', 'humanAnimate', 'humanAnimate', 'ambiguousAnimate', 'humanAnimate', 'humanAnimate', 'nonHumanAnimate']\n",
      "\n",
      "\n",
      "Participant 2 *****************\n",
      "['humanAnimate', 'ambiguousAnimate', 'humanAnimate', 'ambiguousAnimate', 'humanAnimate', 'ambiguousAnimate', 'humanAnimate', 'humanAnimate', 'nonHumanAnimate', 'humanAnimate', 'nonHumanAnimate', 'humanAnimate', 'nonHumanAnimate', 'humanAnimate', 'humanAnimate', 'humanAnimate', 'humanAnimate', 'humanAnimate', 'humanAnimate', 'humanAnimate', 'humanAnimate', 'humanAnimate', 'humanAnimate', 'humanAnimate', 'humanAnimate', 'humanAnimate', 'humanAnimate', 'humanAnimate', 'humanAnimate', 'humanAnimate', 'humanAnimate', 'humanAnimate', 'humanAnimate', 'humanAnimate', 'humanAnimate', 'humanAnimate', 'humanAnimate', 'humanAnimate', 'humanAnimate', 'humanAnimate', 'nonHumanAnimate']\n",
      "\n",
      "\n",
      "Participant 3 *****************\n",
      "['humanAnimate', 'nonHumanAnimate', 'humanAnimate', 'nonHumanAnimate', 'humanAnimate', 'ambiguousAnimate', 'humanAnimate', 'humanAnimate', 'nonHumanAnimate', 'humanAnimate', 'nonHumanAnimate', 'humanAnimate', 'nonHumanAnimate', 'nonHumanAnimate', 'humanAnimate', 'humanAnimate', 'humanAnimate', 'humanAnimate', 'humanAnimate', 'humanAnimate', 'humanAnimate', 'humanAnimate', 'humanAnimate', 'humanAnimate', 'humanAnimate', 'humanAnimate', 'humanAnimate', 'humanAnimate', 'humanAnimate', 'humanAnimate', 'humanAnimate', 'humanAnimate', 'humanAnimate', 'humanAnimate', 'humanAnimate', 'humanAnimate', 'humanAnimate', 'humanAnimate', 'humanAnimate', 'humanAnimate', 'nonHumanAnimate']\n",
      "\n",
      "\n",
      "Participant 4 *****************\n",
      "['humanAnimate', 'nonHumanAnimate', 'humanAnimate', 'nonHumanAnimate', 'humanAnimate', 'nonHumanAnimate', 'humanAnimate', 'humanAnimate', 'nonHumanAnimate', 'humanAnimate', 'nonHumanAnimate', 'humanAnimate', 'nonHumanAnimate', 'humanAnimate', 'humanAnimate', 'humanAnimate', 'humanAnimate', 'humanAnimate', 'humanAnimate', 'humanAnimate', 'humanAnimate', 'humanAnimate', 'humanAnimate', 'humanAnimate', 'humanAnimate', 'humanAnimate', 'humanAnimate', 'humanAnimate', 'humanAnimate', 'humanAnimate', 'humanAnimate', 'humanAnimate', 'humanAnimate', 'humanAnimate', 'humanAnimate', 'humanAnimate', 'humanAnimate', 'humanAnimate', 'humanAnimate', 'humanAnimate', 'nonHumanAnimate']\n",
      "\n",
      "\n",
      "Participant 5 *****************\n",
      "['humanLikeAnimate', 'nonHumanAnimate', 'humanAnimate', 'nonHumanAnimate', 'humanAnimate', 'ambiguousAnimate', 'humanAnimate', 'humanAnimate', 'nonHumanAnimate', 'humanAnimate', 'nonHumanAnimate', 'humanAnimate', 'humanLikeAnimate', 'humanAnimate', 'humanAnimate', 'humanAnimate', 'humanAnimate', 'humanAnimate', 'humanAnimate', 'humanAnimate', 'humanAnimate', 'humanAnimate', 'humanAnimate', 'humanAnimate', 'humanAnimate', 'humanAnimate', 'humanAnimate', 'humanAnimate', 'humanAnimate', 'humanAnimate', 'humanAnimate', 'humanAnimate', 'humanAnimate', 'humanAnimate', 'humanAnimate', 'humanAnimate', 'humanAnimate', 'humanAnimate', 'humanAnimate', 'humanAnimate', 'nonHumanAnimate']\n"
     ]
    }
   ],
   "source": [
    "print(\"Show the chosen animacy category annotations per participant\")\n",
    "print(\"\\n\")\n",
    "\n",
    "print(\"Participant 1 *****************\")\n",
    "print(p1_animacyTypeList4)\n",
    "print(\"\\n\")\n",
    "print(\"Participant 2 *****************\")\n",
    "print(p2_animacyTypeList4)\n",
    "print(\"\\n\")\n",
    "print(\"Participant 3 *****************\")\n",
    "print(p3_animacyTypeList4)\n",
    "print(\"\\n\")\n",
    "print(\"Participant 4 *****************\")\n",
    "print(p4_animacyTypeList4)\n",
    "print(\"\\n\")\n",
    "print(\"Participant 5 *****************\")\n",
    "print(p5_animacyTypeList4)\n"
   ]
  },
  {
   "cell_type": "code",
   "execution_count": null,
   "id": "9cde62bc",
   "metadata": {},
   "outputs": [],
   "source": []
  }
 ],
 "metadata": {
  "kernelspec": {
   "display_name": "Python 3 (ipykernel)",
   "language": "python",
   "name": "python3"
  },
  "language_info": {
   "codemirror_mode": {
    "name": "ipython",
    "version": 3
   },
   "file_extension": ".py",
   "mimetype": "text/x-python",
   "name": "python",
   "nbconvert_exporter": "python",
   "pygments_lexer": "ipython3",
   "version": "3.9.10"
  }
 },
 "nbformat": 4,
 "nbformat_minor": 5
}
